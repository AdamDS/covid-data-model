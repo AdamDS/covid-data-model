{
 "cells": [
  {
   "cell_type": "code",
   "execution_count": 1,
   "metadata": {},
   "outputs": [],
   "source": [
    "import pandas as pd\n",
    "import numpy as np\n",
    "import datetime\n",
    "import seaborn as sb\n",
    "import time\n",
    "#from ipywidgets import interact, fixed\n",
    "from libs.CovidTimeseriesModel import CovidTimeseriesModel \n",
    "from libs.CovidTimeseriesModelSIR import CovidTimeseriesModelSIR\n",
    "from libs.CovidDatasets import CDSDataset, JHUDataset\n",
    "pd.set_option('display.float_format', lambda x: '%.2f' % x)"
   ]
  },
  {
   "cell_type": "code",
   "execution_count": 2,
   "metadata": {},
   "outputs": [],
   "source": [
    "%load_ext autoreload\n",
    "%autoreload 2"
   ]
  },
  {
   "cell_type": "code",
   "execution_count": 3,
   "metadata": {},
   "outputs": [],
   "source": [
    "%matplotlib inline\n",
    "\n",
    "import matplotlib.pyplot as plt\n",
    "\n",
    "from pandas.plotting import register_matplotlib_converters\n",
    "register_matplotlib_converters()"
   ]
  },
  {
   "cell_type": "code",
   "execution_count": 4,
   "metadata": {
    "scrolled": true
   },
   "outputs": [],
   "source": [
    "Dataset = JHUDataset()\n",
    "\n",
    "def model_state(country, state, interventions=None):\n",
    "   \n",
    "    # we should cut this, only used by the get_timeseries function, but probably not needed\n",
    "    MODEL_INTERVAL = 4\n",
    "\n",
    "    # Pack all of the assumptions and parameters into a dict that can be passed into the model    \n",
    "    DATA_PARAMETERS = {\n",
    "        'timeseries': Dataset.get_timeseries_by_country_state(country, state, MODEL_INTERVAL),\n",
    "        'beds': Dataset.get_beds_by_country_state(country, state),  \n",
    "        'population': Dataset.get_population_by_country_state(country, state),\n",
    "    }\n",
    "    \n",
    "    MODEL_PARAMETERS = {        \n",
    "        'model': 'seir',\n",
    "\n",
    "        'use_harvard_params': False, #If True use the harvard parameters directly, if not calculate off the above\n",
    "        'fix_r0': False, #If True use the parameters that make R0 2.4, if not calculate off the above\n",
    "        \n",
    "        'days_to_model': 270,\n",
    "\n",
    "        'hospitalization_rate': 0.0727,\n",
    "        #'hospitalization_rate': 0.2,\n",
    "        'hospitalized_cases_requiring_icu_care': 0.1397,\n",
    "\n",
    "        ## Variables for calculating model parameters Hill -> our names/calcs    \n",
    "        # IncubPeriod: Average incubation period, days - presymptomatic_period\n",
    "        # DurMildInf: Average duration of mild infections, days - duration_mild_infections\n",
    "        # FracMild: Average fraction of (symptomatic) infections that are mild - (1 - hospitalization_rate)\n",
    "        # FracSevere: Average fraction of (symptomatic) infections that are severe - hospitalization_rate * hospitalized_cases_requiring_icu_care\n",
    "        # FracCritical: Average fraction of (symptomatic) infections that are critical - hospitalization_rate * hospitalized_cases_requiring_icu_care\n",
    "        # CFR: Case fatality rate (fraction of infections that eventually result in death) - case_fatality_rate\n",
    "        # DurHosp: Average duration of hospitalization (time to recovery) for individuals with severe infection, days - hospital_time_recovery\n",
    "        # TimeICUDeath: Average duration of ICU admission (until death or recovery), days - icu_time_death \n",
    "        \n",
    "        # LOGIC ON INITIAL CONDITIONS:\n",
    "        # hospitalized = case load from timeseries on last day of data / 4\n",
    "        # mild = hospitalized / hospitalization_rate\n",
    "        # icu = hospitalized * hospitalized_cases_requiring_icu_care\n",
    "        # expoosed = exposed_infected_ratio * mild\n",
    "        \n",
    "        'presymptomatic_period': 3, # Time before exposed are infectious, In days\n",
    "        'duration_mild_infections': 6, # Time mildly infected poeple stay sick, In days\n",
    "        'hospital_time_recovery': 11, #Duration of hospitalization, In days\n",
    "        'icu_time_death': 7, #Time from ICU admission to death, In days\n",
    "\n",
    "        'beta': 0.5,\n",
    "        'beta_hospitalized': 0.1,\n",
    "        'beta_icu': 0.1,\n",
    "        'case_fatality_rate': .0109341104294479,\n",
    "\n",
    "        \n",
    "        'exposed_from_infected': True,\n",
    "\n",
    "        'hospital_capacity_change_daily_rate': 1.05,\n",
    "        'max_hospital_capacity_factor': 2.07,\n",
    "        'initial_hospital_bed_utilization': .6,     \n",
    "\n",
    "        'interventions': interventions,\n",
    "    }\n",
    "    \n",
    "    MODEL_PARAMETERS['case_fatality_rate_hospitals_overwhelmed'] = MODEL_PARAMETERS['hospitalization_rate'] * MODEL_PARAMETERS['hospitalized_cases_requiring_icu_care']\n",
    "    \n",
    "    MODEL_PARAMETERS['exposed_infected_ratio'] = 1\n",
    "    \n",
    "    MODEL_PARAMETERS.update(DATA_PARAMETERS)\n",
    "    \n",
    "    return CovidTimeseriesModelSIR().forecast_region(model_parameters=MODEL_PARAMETERS)\n",
    "             \n",
    "INTERVENTIONS = [\n",
    "    None, \n",
    "    {\n",
    "        datetime.date(2020, 3, 23): 1.3,\n",
    "        datetime.date(2020, 4, 20): 1.1,\n",
    "        datetime.date(2020, 5, 22): 0.8,\n",
    "        datetime.date(2020, 6, 23): 3.087079333\n",
    "    },\n",
    "    {\n",
    "        datetime.date(2020, 3, 23): 1.7,\n",
    "        datetime.date(2020, 6, 23): 3.087079333\n",
    "    },\n",
    "    {\n",
    "        datetime.date(2020, 3, 23): 1.3,\n",
    "        datetime.date(2020, 3, 31): 0.3,\n",
    "        datetime.date(2020, 4, 28): 0.2,\n",
    "        datetime.date(2020, 5,  6): 0.1,\n",
    "        datetime.date(2020, 5, 10): 0.035,\n",
    "        datetime.date(2020, 5, 18): 3.087079333\n",
    "    },   \n",
    "    {\n",
    "        datetime.date(2020, 4, 3): 1.3,\n",
    "        datetime.date(2020, 5, 18): 3.087079333\n",
    "\n",
    "    },\n",
    "    {\n",
    "        datetime.date(2020, 3, 3): 5,\n",
    "    },\n",
    "]"
   ]
  },
  {
   "cell_type": "code",
   "execution_count": 5,
   "metadata": {},
   "outputs": [],
   "source": [
    "#JHUDataset.get_timeseries_by_country_state('USA', 'TX', 1) #[['date','cases','deaths','recovered','active']]\n",
    "#Dataset.get_beds_by_country_state('USA', 'NY')"
   ]
  },
  {
   "cell_type": "code",
   "execution_count": 6,
   "metadata": {},
   "outputs": [],
   "source": [
    "def plot_df(df, cols):\n",
    "    cols.append('date')\n",
    "    \n",
    "    df = df.loc[:, cols]\n",
    "\n",
    "    x_dates = df['date'].dt.strftime('%Y-%m-%d').sort_values().unique()\n",
    "        \n",
    "    df.set_index('date', inplace=True)\n",
    "    \n",
    "    stacked = df.stack().reset_index()\n",
    "    \n",
    "    stacked.columns = ['date', 'Population', 'Number of people']\n",
    "    \n",
    "    plt.figure(figsize=(15,8))\n",
    "\n",
    "    df_plt = sb.lineplot(x='date', y='Number of people', hue='Population', data=stacked)\n",
    "\n",
    "    #df_plt.set_xticklabels(labels=x_dates, rotation=45, ha='right')\n",
    "\n",
    "    return(df_plt)"
   ]
  },
  {
   "cell_type": "code",
   "execution_count": 7,
   "metadata": {},
   "outputs": [
    {
     "name": "stdout",
     "output_type": "stream",
     "text": [
      "<class 'pandas.core.frame.DataFrame'>\n",
      "RangeIndex: 24707 entries, 0 to 24706\n",
      "Data columns (total 8 columns):\n",
      "index        24707 non-null int64\n",
      "date         24707 non-null datetime64[ns]\n",
      "country      24707 non-null object\n",
      "state        20619 non-null object\n",
      "county       16784 non-null object\n",
      "cases        24688 non-null float64\n",
      "deaths       24266 non-null float64\n",
      "recovered    24319 non-null float64\n",
      "dtypes: datetime64[ns](1), float64(3), int64(1), object(3)\n",
      "memory usage: 1.5+ MB\n"
     ]
    }
   ],
   "source": [
    "[df, soln] = model_state('USA', 'TX', INTERVENTIONS[0])"
   ]
  },
  {
   "cell_type": "code",
   "execution_count": 8,
   "metadata": {},
   "outputs": [
    {
     "name": "stdout",
     "output_type": "stream",
     "text": [
      "first case\n",
      "2020-03-03 00:00:00\n",
      "peak in hospitalizations\n",
      "2020-05-25T00:00:00.000000000\n",
      "avg doubling time by month\n",
      "       doubling_time\n",
      "month               \n",
      "3               5.11\n",
      "4               3.96\n",
      "5             523.55\n",
      "6             -12.35\n",
      "7              -8.75\n",
      "8              -8.32\n",
      "9              -8.21\n",
      "10             -8.18\n",
      "11             -8.17\n",
      "12             -8.16\n",
      "avg doubling time by week\n",
      "      doubling_time\n",
      "week               \n",
      "10              nan\n",
      "11              nan\n",
      "12              nan\n",
      "13             5.22\n",
      "14             4.38\n",
      "15             3.88\n",
      "16             3.83\n",
      "17             3.91\n",
      "18             4.22\n",
      "19             5.23\n",
      "20             8.85\n",
      "21            41.45\n",
      "22          2261.16\n",
      "23           -17.46\n",
      "24           -12.44\n",
      "25           -10.62\n",
      "26            -9.73\n",
      "27            -9.22\n",
      "28            -8.90\n",
      "29            -8.69\n",
      "30            -8.55\n",
      "31            -8.45\n",
      "32            -8.38\n",
      "33            -8.33\n",
      "34            -8.29\n",
      "35            -8.26\n",
      "36            -8.23\n",
      "37            -8.22\n",
      "38            -8.20\n",
      "39            -8.20\n",
      "40            -8.19\n",
      "41            -8.18\n",
      "42            -8.18\n",
      "43            -8.17\n",
      "44            -8.17\n",
      "45            -8.17\n",
      "46            -8.17\n",
      "47            -8.17\n",
      "48            -8.17\n",
      "49            -8.17\n",
      "50            -8.16\n",
      "51            -8.16\n"
     ]
    },
    {
     "data": {
      "text/plain": [
       "<matplotlib.axes._subplots.AxesSubplot at 0x12170d290>"
      ]
     },
     "execution_count": 8,
     "metadata": {},
     "output_type": "execute_result"
    },
    {
     "data": {
      "image/png": "[encoded data removed]",
      "text/plain": [
       "<Figure size 1080x576 with 1 Axes>"
      ]
     },
     "metadata": {
      "needs_background": "light"
     },
     "output_type": "display_data"
    }
   ],
   "source": [
    "first_case_date = df.loc[(df.infected > 0), 'date'].min()\n",
    "peak_date = df.loc[(df.infected_b == df.infected_b.max())]['date'].values[0]\n",
    "\n",
    "print('first case')\n",
    "print(first_case_date)\n",
    "print('peak in hospitalizations')\n",
    "print(peak_date)\n",
    "\n",
    "df['month'] = pd.DatetimeIndex(df['date']).month\n",
    "avg_doubling_month = df.loc[:, ('month', 'doubling_time')].groupby('month').mean()\n",
    "\n",
    "print('avg doubling time by month')\n",
    "print(avg_doubling_month)\n",
    "\n",
    "df['week'] = pd.DatetimeIndex(df['date']).week\n",
    "avg_doubling_month = df.loc[:, ('week', 'doubling_time')].groupby('week').mean()\n",
    "\n",
    "print('avg doubling time by week')\n",
    "print(avg_doubling_month)\n",
    "\n",
    "#chart_cols = [\"exposed\", \"infected\", \"infected_b\", \"infected_c\",  \"recovered\", \"dead\"] #, \"susceptible\"]\n",
    "chart_cols = [\"infected_a\", \"infected_b\", \"infected_c\", \"dead\", \"beds\"] #, \"susceptible\"] \"recovered\",\n",
    "\n",
    "plot_df(df, chart_cols)"
   ]
  },
  {
   "cell_type": "code",
   "execution_count": 9,
   "metadata": {},
   "outputs": [],
   "source": [
    "# df.head(25)"
   ]
  },
  {
   "cell_type": "code",
   "execution_count": 10,
   "metadata": {},
   "outputs": [],
   "source": [
    "[intervention_df, soln] = model_state('USA', 'TX', INTERVENTIONS[3])"
   ]
  },
  {
   "cell_type": "code",
   "execution_count": 11,
   "metadata": {},
   "outputs": [
    {
     "name": "stdout",
     "output_type": "stream",
     "text": [
      "first case\n",
      "2020-03-03 00:00:00\n",
      "peak in hospitalizations\n",
      "2020-07-30T00:00:00.000000000\n",
      "avg doubling time by month\n",
      "       doubling_time\n",
      "month               \n",
      "3            -147.53\n",
      "4             -17.43\n",
      "5             -31.77\n",
      "6               3.93\n",
      "7              30.35\n",
      "8             -17.55\n",
      "9              -8.89\n",
      "10             -8.35\n",
      "11             -8.22\n",
      "12             -8.18\n",
      "avg doubling time by week\n",
      "      doubling_time\n",
      "week               \n",
      "10              nan\n",
      "11              nan\n",
      "12              nan\n",
      "13             6.58\n",
      "14          -143.42\n",
      "15            -9.77\n",
      "16           -20.13\n",
      "17           -14.17\n",
      "18           -43.08\n",
      "19          -100.35\n",
      "20           -21.86\n",
      "21            -3.74\n",
      "22             7.59\n",
      "23             4.22\n",
      "24             3.85\n",
      "25             3.81\n",
      "26             3.86\n",
      "27             4.04\n",
      "28             4.62\n",
      "29             6.61\n",
      "30            15.40\n",
      "31            87.99\n",
      "32           -24.17\n",
      "33           -13.99\n",
      "34           -11.26\n",
      "35           -10.06\n",
      "36            -9.41\n",
      "37            -9.03\n",
      "38            -8.78\n",
      "39            -8.61\n",
      "40            -8.49\n",
      "41            -8.41\n",
      "42            -8.35\n",
      "43            -8.30\n",
      "44            -8.27\n",
      "45            -8.24\n",
      "46            -8.22\n",
      "47            -8.21\n",
      "48            -8.20\n",
      "49            -8.19\n",
      "50            -8.18\n",
      "51            -8.18\n"
     ]
    },
    {
     "data": {
      "text/plain": [
       "<matplotlib.axes._subplots.AxesSubplot at 0x1223b5750>"
      ]
     },
     "execution_count": 11,
     "metadata": {},
     "output_type": "execute_result"
    },
    {
     "data": {
      "image/png": "[encoded data removed]",
      "text/plain": [
       "<Figure size 1080x576 with 1 Axes>"
      ]
     },
     "metadata": {
      "needs_background": "light"
     },
     "output_type": "display_data"
    }
   ],
   "source": [
    "first_case_date = intervention_df.loc[(intervention_df.infected > 0), 'date'].min()\n",
    "peak_date = intervention_df.loc[(intervention_df.infected_b == intervention_df.infected_b.max())]['date'].values[0]\n",
    "\n",
    "print('first case')\n",
    "print(first_case_date)\n",
    "print('peak in hospitalizations')\n",
    "print(peak_date)\n",
    "\n",
    "intervention_df['month'] = pd.DatetimeIndex(intervention_df['date']).month\n",
    "avg_doubling_month = intervention_df.loc[:, ('month', 'doubling_time')].groupby('month').mean()\n",
    "\n",
    "print('avg doubling time by month')\n",
    "print(avg_doubling_month)\n",
    "\n",
    "intervention_df['week'] = pd.DatetimeIndex(intervention_df['date']).week\n",
    "avg_doubling_month = intervention_df.loc[:, ('week', 'doubling_time')].groupby('week').mean()\n",
    "\n",
    "print('avg doubling time by week')\n",
    "print(avg_doubling_month)\n",
    "\n",
    "#chart_cols = [\"exposed\", \"infected\", \"infected_b\", \"infected_c\",  \"recovered\", \"dead\"] #, \"susceptible\"]\n",
    "chart_cols = [\"infected_a\", \"infected_b\", \"infected_c\", \"dead\", \"beds\"] #, \"susceptible\"] \"recovered\",\n",
    "\n",
    "plot_df(intervention_df, chart_cols)"
   ]
  },
  {
   "cell_type": "code",
   "execution_count": null,
   "metadata": {},
   "outputs": [],
   "source": []
  }
 ],
 "metadata": {
  "kernelspec": {
   "display_name": "Python 3",
   "language": "python",
   "name": "python3"
  },
  "language_info": {
   "codemirror_mode": {
    "name": "ipython",
    "version": 3
   },
   "file_extension": ".py",
   "mimetype": "text/x-python",
   "name": "python",
   "nbconvert_exporter": "python",
   "pygments_lexer": "ipython3",
   "version": "3.7.4"
  }
 },
 "nbformat": 4,
 "nbformat_minor": 4
}
